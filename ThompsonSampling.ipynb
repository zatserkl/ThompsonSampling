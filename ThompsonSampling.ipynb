{
 "cells": [
  {
   "cell_type": "markdown",
   "id": "4cb62c44-d351-423e-acd7-822c6296dd82",
   "metadata": {},
   "source": [
    "# Thompson Sampling  \n",
    "\n",
    "Based on https://analyticsindiamag.com/thompson-sampling-explained-with-python-code/"
   ]
  },
  {
   "cell_type": "code",
   "execution_count": 14,
   "id": "dacc0333-b0cd-474d-a206-60c8366cbf90",
   "metadata": {},
   "outputs": [
    {
     "data": {
      "text/html": [
       "<div>\n",
       "<style scoped>\n",
       "    .dataframe tbody tr th:only-of-type {\n",
       "        vertical-align: middle;\n",
       "    }\n",
       "\n",
       "    .dataframe tbody tr th {\n",
       "        vertical-align: top;\n",
       "    }\n",
       "\n",
       "    .dataframe thead th {\n",
       "        text-align: right;\n",
       "    }\n",
       "</style>\n",
       "<table border=\"1\" class=\"dataframe\">\n",
       "  <thead>\n",
       "    <tr style=\"text-align: right;\">\n",
       "      <th></th>\n",
       "      <th>B1</th>\n",
       "      <th>B2</th>\n",
       "      <th>B3</th>\n",
       "      <th>B4</th>\n",
       "      <th>B5</th>\n",
       "    </tr>\n",
       "  </thead>\n",
       "  <tbody>\n",
       "    <tr>\n",
       "      <th>0</th>\n",
       "      <td>0</td>\n",
       "      <td>1</td>\n",
       "      <td>0</td>\n",
       "      <td>0</td>\n",
       "      <td>1</td>\n",
       "    </tr>\n",
       "    <tr>\n",
       "      <th>1</th>\n",
       "      <td>0</td>\n",
       "      <td>0</td>\n",
       "      <td>0</td>\n",
       "      <td>0</td>\n",
       "      <td>0</td>\n",
       "    </tr>\n",
       "    <tr>\n",
       "      <th>2</th>\n",
       "      <td>1</td>\n",
       "      <td>1</td>\n",
       "      <td>1</td>\n",
       "      <td>1</td>\n",
       "      <td>0</td>\n",
       "    </tr>\n",
       "    <tr>\n",
       "      <th>3</th>\n",
       "      <td>0</td>\n",
       "      <td>1</td>\n",
       "      <td>1</td>\n",
       "      <td>1</td>\n",
       "      <td>1</td>\n",
       "    </tr>\n",
       "    <tr>\n",
       "      <th>4</th>\n",
       "      <td>1</td>\n",
       "      <td>1</td>\n",
       "      <td>1</td>\n",
       "      <td>1</td>\n",
       "      <td>0</td>\n",
       "    </tr>\n",
       "    <tr>\n",
       "      <th>...</th>\n",
       "      <td>...</td>\n",
       "      <td>...</td>\n",
       "      <td>...</td>\n",
       "      <td>...</td>\n",
       "      <td>...</td>\n",
       "    </tr>\n",
       "    <tr>\n",
       "      <th>195</th>\n",
       "      <td>1</td>\n",
       "      <td>1</td>\n",
       "      <td>0</td>\n",
       "      <td>1</td>\n",
       "      <td>1</td>\n",
       "    </tr>\n",
       "    <tr>\n",
       "      <th>196</th>\n",
       "      <td>0</td>\n",
       "      <td>0</td>\n",
       "      <td>0</td>\n",
       "      <td>0</td>\n",
       "      <td>1</td>\n",
       "    </tr>\n",
       "    <tr>\n",
       "      <th>197</th>\n",
       "      <td>1</td>\n",
       "      <td>0</td>\n",
       "      <td>0</td>\n",
       "      <td>0</td>\n",
       "      <td>1</td>\n",
       "    </tr>\n",
       "    <tr>\n",
       "      <th>198</th>\n",
       "      <td>1</td>\n",
       "      <td>0</td>\n",
       "      <td>1</td>\n",
       "      <td>0</td>\n",
       "      <td>0</td>\n",
       "    </tr>\n",
       "    <tr>\n",
       "      <th>199</th>\n",
       "      <td>0</td>\n",
       "      <td>1</td>\n",
       "      <td>0</td>\n",
       "      <td>0</td>\n",
       "      <td>0</td>\n",
       "    </tr>\n",
       "  </tbody>\n",
       "</table>\n",
       "<p>200 rows × 5 columns</p>\n",
       "</div>"
      ],
      "text/plain": [
       "     B1  B2  B3  B4  B5\n",
       "0     0   1   0   0   1\n",
       "1     0   0   0   0   0\n",
       "2     1   1   1   1   0\n",
       "3     0   1   1   1   1\n",
       "4     1   1   1   1   0\n",
       "..   ..  ..  ..  ..  ..\n",
       "195   1   1   0   1   1\n",
       "196   0   0   0   0   1\n",
       "197   1   0   0   0   1\n",
       "198   1   0   1   0   0\n",
       "199   0   1   0   0   0\n",
       "\n",
       "[200 rows x 5 columns]"
      ]
     },
     "metadata": {},
     "output_type": "display_data"
    }
   ],
   "source": [
    "import random\n",
    "import pandas as pd\n",
    "import matplotlib.pyplot as plt\n",
    "from collections import Counter\n",
    "\n",
    "random.seed(1)\n",
    "\n",
    "data = {}\n",
    "\n",
    "data['B1'] = [random.randint(0, 1) for x in range(200)]  # NB: upper limit in randint(0, 1) is inclusive\n",
    "data['B2'] = [random.randint(0, 1) for x in range(200)]\n",
    "data['B3'] = [random.randint(0, 1) for x in range(200)]\n",
    "data['B4'] = [random.randint(0, 1) for x in range(200)]\n",
    "data['B5'] = [random.randint(0, 1) for x in range(200)]\n",
    "\n",
    "data = pd.DataFrame(data)\n",
    "\n",
    "display(data)"
   ]
  },
  {
   "cell_type": "code",
   "execution_count": 7,
   "id": "85210bfe-c24d-49c3-b290-21fb27f224ba",
   "metadata": {},
   "outputs": [],
   "source": [
    "observations = 200\n",
    "machines = 5"
   ]
  },
  {
   "cell_type": "markdown",
   "id": "333ef252-0936-4650-9aee-948e40f42bf4",
   "metadata": {},
   "source": [
    "In Thompson Sampling each machine is selected based on the <span style=\"color:red\">beta distribution</span> of rewards and penalties associated with each machine. And so we need a list to save the machine that has been selected by Thompson Sampling for a specific round/observation."
   ]
  },
  {
   "cell_type": "code",
   "execution_count": 8,
   "id": "9cefe48a-2fcf-48b7-99ed-41af9adb6c46",
   "metadata": {},
   "outputs": [],
   "source": [
    "machine_selected = []"
   ]
  },
  {
   "cell_type": "markdown",
   "id": "068cab75-e40e-4daf-86a7-fd6e3eb960a9",
   "metadata": {},
   "source": [
    "We will now initialize 3 variables,\n",
    "\n",
    "- one to store the rewards or 1’s received by each Slot Machine/Bandit that was selected by the Thompson Sampling algorithm,  \n",
    "- one to store the penalties or 0’s received by each Slot Machine/Bandit that was selected by the Thompson Sampling algorithm, and,  \n",
    "- a variable to store the total number of rewards obtained using the Thompson Sampling algorithm  "
   ]
  },
  {
   "cell_type": "code",
   "execution_count": 9,
   "id": "c24a8117-f979-419b-9f99-c9e8ab121552",
   "metadata": {},
   "outputs": [],
   "source": [
    "rewards = [0] * machines\n",
    "penalties = [0] * machines\n",
    "total_rewards = 0"
   ]
  },
  {
   "cell_type": "code",
   "execution_count": 10,
   "id": "5383717a-67f4-4ead-98b5-0b4a443ba01d",
   "metadata": {},
   "outputs": [
    {
     "name": "stdout",
     "output_type": "stream",
     "text": [
      "Rewards by Machine: [2, 5, 58, 20, 32]\n",
      "Total Rewards: 117\n",
      "Machine Selected at each round by Thompson Sampling:\n",
      "[2, 0, 4, 3, 3, 1, 2, 3, 3, 0, 2, 0, 4, 3, 3, 3, 1, 3, 1, 4, 3, 1, 3, 4, 3, 4, 4, 4, 3, 1, 3, 3, 4, 3, 4, 4, 4, 1, 4, 3, 4, 3, 3, 4, 4, 4, 3, 3, 4, 3, 4, 3, 4, 4, 4, 3, 4, 4, 1, 4, 4, 1, 4, 4, 4, 4, 4, 3, 3, 4, 3, 3, 1, 2, 4, 4, 4, 4, 2, 4, 4, 3, 4, 2, 2, 4, 2, 4, 2, 2, 2, 2, 2, 2, 4, 1, 2, 2, 2, 4, 2, 2, 2, 2, 4, 2, 2, 2, 2, 2, 2, 2, 2, 2, 2, 2, 2, 2, 2, 2, 2, 2, 2, 2, 4, 2, 2, 4, 2, 2, 4, 2, 2, 2, 2, 2, 3, 2, 2, 4, 2, 2, 2, 2, 2, 1, 4, 2, 2, 2, 4, 2, 2, 3, 2, 2, 4, 4, 2, 2, 4, 0, 4, 2, 3, 2, 3, 2, 2, 2, 2, 2, 2, 2, 2, 2, 0, 2, 2, 0, 4, 2, 3, 2, 2, 3, 2, 2, 2, 3, 2, 2, 2, 1, 2, 2, 4, 2, 2, 2]\n"
     ]
    }
   ],
   "source": [
    "for n in range(0, observations):\n",
    "    bandit = 0\n",
    "    beta_max = 0\n",
    "    \n",
    "    for i in range(0, machines):\n",
    "        beta_d = random.betavariate(rewards[i] + 1, penalties[i] + 1)\n",
    "        if beta_d > beta_max:\n",
    "            beta_max = beta_d\n",
    "            bandit = i\n",
    "    \n",
    "    machine_selected.append(bandit)\n",
    "    \n",
    "    reward = data.values[n, bandit]\n",
    "    \n",
    "    if reward == 1:\n",
    "        rewards[bandit] += 1\n",
    "    else:\n",
    "        penalties[bandit] += 1\n",
    "    total_rewards += reward\n",
    "\n",
    "print(f'Rewards by Machine: {rewards}')\n",
    "print(f'Total Rewards: {total_rewards}')\n",
    "print(f'Machine Selected at each round by Thompson Sampling:\\n{machine_selected}')"
   ]
  },
  {
   "cell_type": "code",
   "execution_count": 13,
   "id": "ae005461-177a-46b8-8e98-17c7cfe5bb86",
   "metadata": {},
   "outputs": [
    {
     "data": {
      "text/plain": [
       "Text(0, 0.5, 'Rewards by each Machine')"
      ]
     },
     "execution_count": 13,
     "metadata": {},
     "output_type": "execute_result"
    },
    {
     "data": {
      "image/png": "[encoded data removed]",
      "text/plain": [
       "<Figure size 432x288 with 1 Axes>"
      ]
     },
     "metadata": {
      "needs_background": "light"
     },
     "output_type": "display_data"
    }
   ],
   "source": [
    "plt.figure()\n",
    "plt.bar(['B1', 'B2', 'B3', 'B4', 'B5'], rewards)\n",
    "plt.title('Multi-Armed Bandit Problem')\n",
    "plt.xlabel('Bandits')\n",
    "plt.ylabel('Rewards by each Machine')"
   ]
  },
  {
   "cell_type": "code",
   "execution_count": 28,
   "id": "e81d49ca-129f-4e67-a0e4-4c681541cbeb",
   "metadata": {},
   "outputs": [
    {
     "name": "stdout",
     "output_type": "stream",
     "text": [
      "Number of times each machine was selected by the Thompson Sampling algorithm:\n",
      "{0: 6, 1: 12, 2: 92, 3: 35, 4: 55}\n"
     ]
    }
   ],
   "source": [
    "print(f'Number of times each machine was selected by the Thompson Sampling algorithm:')\n",
    "print(dict(sorted(Counter(machine_selected).items())))  # Counter is like a dict"
   ]
  },
  {
   "cell_type": "code",
   "execution_count": null,
   "id": "6fe1adf6-6b6e-41e4-b975-cbbd7a319629",
   "metadata": {},
   "outputs": [],
   "source": []
  },
  {
   "cell_type": "code",
   "execution_count": 31,
   "id": "1eaa164e-2209-40ae-807f-04a99405b395",
   "metadata": {},
   "outputs": [],
   "source": [
    "nselected = dict(sorted(Counter(machine_selected).items()))  # Counter is like a dict"
   ]
  },
  {
   "cell_type": "code",
   "execution_count": 37,
   "id": "15c2774b-1a62-4e49-8590-09a837291aa2",
   "metadata": {},
   "outputs": [
    {
     "data": {
      "image/png": "[encoded data removed]",
      "text/plain": [
       "<Figure size 432x288 with 1 Axes>"
      ]
     },
     "metadata": {
      "needs_background": "light"
     },
     "output_type": "display_data"
    }
   ],
   "source": [
    "plt.figure()\n",
    "plt.plot(nselected.keys(), nselected.values(), '.')\n",
    "plt.grid()"
   ]
  },
  {
   "cell_type": "code",
   "execution_count": 40,
   "id": "c322b5e9-0723-4986-9c38-be0b90ac0935",
   "metadata": {},
   "outputs": [
    {
     "data": {
      "image/png": "[encoded data removed]",
      "text/plain": [
       "<Figure size 432x288 with 1 Axes>"
      ]
     },
     "metadata": {
      "needs_background": "light"
     },
     "output_type": "display_data"
    }
   ],
   "source": [
    "plt.figure()\n",
    "plt.bar(nselected.keys(), nselected.values())\n",
    "plt.ylabel(f'N times selected')\n",
    "plt.grid()"
   ]
  }
 ],
 "metadata": {
  "kernelspec": {
   "display_name": "Python 3 (ipykernel)",
   "language": "python",
   "name": "python3"
  },
  "language_info": {
   "codemirror_mode": {
    "name": "ipython",
    "version": 3
   },
   "file_extension": ".py",
   "mimetype": "text/x-python",
   "name": "python",
   "nbconvert_exporter": "python",
   "pygments_lexer": "ipython3",
   "version": "3.9.7"
  }
 },
 "nbformat": 4,
 "nbformat_minor": 5
}
