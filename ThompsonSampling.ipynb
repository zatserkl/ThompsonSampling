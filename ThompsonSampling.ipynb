{
 "cells": [
  {
   "cell_type": "markdown",
   "id": "4cb62c44-d351-423e-acd7-822c6296dd82",
   "metadata": {},
   "source": [
    "# Thompson Sampling  \n",
    "\n",
    "Based on https://analyticsindiamag.com/thompson-sampling-explained-with-python-code/"
   ]
  },
  {
   "cell_type": "code",
   "execution_count": null,
   "id": "dacc0333-b0cd-474d-a206-60c8366cbf90",
   "metadata": {},
   "outputs": [],
   "source": []
  }
 ],
 "metadata": {
  "kernelspec": {
   "display_name": "Python 3 (ipykernel)",
   "language": "python",
   "name": "python3"
  },
  "language_info": {
   "codemirror_mode": {
    "name": "ipython",
    "version": 3
   },
   "file_extension": ".py",
   "mimetype": "text/x-python",
   "name": "python",
   "nbconvert_exporter": "python",
   "pygments_lexer": "ipython3",
   "version": "3.9.7"
  }
 },
 "nbformat": 4,
 "nbformat_minor": 5
}
